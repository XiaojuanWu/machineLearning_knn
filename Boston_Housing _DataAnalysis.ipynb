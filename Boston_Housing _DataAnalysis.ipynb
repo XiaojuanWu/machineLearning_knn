{
 "cells": [
  {
   "cell_type": "markdown",
   "metadata": {},
   "source": [
    "###Import packages and dtaset. Explore the data:"
   ]
  },
  {
   "cell_type": "code",
   "execution_count": 1,
   "metadata": {
    "collapsed": false
   },
   "outputs": [],
   "source": [
    "#Import packages\n",
    "import numpy as np\n",
    "import scipy as sp\n",
    "import pandas as pd\n",
    "import matplotlib \n",
    "import sklearn"
   ]
  },
  {
   "cell_type": "code",
   "execution_count": 2,
   "metadata": {
    "collapsed": false
   },
   "outputs": [],
   "source": [
    "#Import dataset\n",
    "from sklearn.datasets import load_boston\n",
    "bdata = load_boston()"
   ]
  },
  {
   "cell_type": "code",
   "execution_count": 3,
   "metadata": {
    "collapsed": false
   },
   "outputs": [
    {
     "name": "stdout",
     "output_type": "stream",
     "text": [
      "(506, 13)\n",
      "['data', 'feature_names', 'DESCR', 'target']\n",
      "['CRIM' 'ZN' 'INDUS' 'CHAS' 'NOX' 'RM' 'AGE' 'DIS' 'RAD' 'TAX' 'PTRATIO'\n",
      " 'B' 'LSTAT']\n",
      "(506,)\n"
     ]
    }
   ],
   "source": [
    "#Explore the dataset\n",
    "print bdata.data.shape\n",
    "print bdata.keys()\n",
    "print bdata.feature_names\n",
    "print bdata.target.shape"
   ]
  },
  {
   "cell_type": "markdown",
   "metadata": {},
   "source": [
    "##Part 1: Descriptive analysis\n",
    "\n",
    "###1.1: Histogram of housing prices"
   ]
  },
  {
   "cell_type": "code",
   "execution_count": 27,
   "metadata": {
    "collapsed": false
   },
   "outputs": [
    {
     "data": {
      "text/plain": [
       "<matplotlib.text.Text at 0x108a05790>"
      ]
     },
     "execution_count": 27,
     "metadata": {},
     "output_type": "execute_result"
    },
    {
     "data": {
      "image/png": "[encoded data removed]",
      "text/plain": [
       "<matplotlib.figure.Figure at 0x10898fed0>"
      ]
     },
     "metadata": {},
     "output_type": "display_data"
    }
   ],
   "source": [
    "#Draw histgram to show the mediam house price trendy\n",
    "%matplotlib inline\n",
    "import matplotlib.pyplot as plt\n",
    "plt.hist(bdata.target)\n",
    "plt.xlabel('Housing Price')\n",
    "plt.ylabel('Frequency')"
   ]
  },
  {
   "cell_type": "code",
   "execution_count": 42,
   "metadata": {
    "collapsed": false
   },
   "outputs": [
    {
     "data": {
      "image/png": "[encoded data removed]",
      "text/plain": [
       "<matplotlib.figure.Figure at 0x10a9d9890>"
      ]
     },
     "metadata": {},
     "output_type": "display_data"
    }
   ],
   "source": [
    "#More details\n",
    "max = bdata.target.max()\n",
    "min = bdata.target.min()\n",
    "#Plotting\n",
    "\n",
    "plt.hist(bdata.target, bins = max - min, facecolor = 'g', edgecolor = 'white')\n",
    "plt.axis([min-5, max+5, 0, 40])\n",
    "plt.xlabel('The Housing Price')\n",
    "plt.ylabel('Frequency')\n",
    "plt.title(\"Midian Housing Prices\")\n",
    "\n",
    "#Polishing\n",
    "ax = plt.gca()\n",
    "ax.spines['right'].set_color('None')\n",
    "ax.spines['top'].set_color('None')\n",
    "ax.yaxis.set_ticks_position('none')\n",
    "ax.xaxis.set_ticks_position('none')"
   ]
  },
  {
   "cell_type": "code",
   "execution_count": 62,
   "metadata": {
    "collapsed": false
   },
   "outputs": [
    {
     "data": {
      "image/png": "[encoded data removed]",
      "text/plain": [
       "<matplotlib.figure.Figure at 0x10b323950>"
      ]
     },
     "metadata": {},
     "output_type": "display_data"
    }
   ],
   "source": [
    "#Scatter plot to show the correlation between the housing price and crime rate\n",
    "\n",
    "crime = bdata.data[:,0]\n",
    "plt.scatter(crime, bdata.target, color='purple')\n",
    "plt.xlabel('The Crime Rate')\n",
    "plt.ylabel('The Housing Price')\n",
    "plt.title('Crime Rate and Housing Price')\n",
    "\n",
    "#Ploshing\n",
    "ax = plt.gca()\n",
    "ax.spines['right'].set_color('none')\n",
    "ax.spines['top'].set_color('none')\n",
    "ax.yaxis.set_ticks_position('none')\n",
    "ax.xaxis.set_ticks_position('none')"
   ]
  },
  {
   "cell_type": "markdown",
   "metadata": {},
   "source": [
    "##Part2: Experimental Setup"
   ]
  },
  {
   "cell_type": "markdown",
   "metadata": {},
   "source": [
    "###2.1 Create a function to compute the Root Mean Squared Error for a list of numbers"
   ]
  },
  {
   "cell_type": "code",
   "execution_count": 4,
   "metadata": {
    "collapsed": false
   },
   "outputs": [
    {
     "name": "stdout",
     "output_type": "stream",
     "text": [
      "2.08166599947\n"
     ]
    }
   ],
   "source": [
    "\"\"\"\n",
    "Function\n",
    "--------\n",
    "compute_rmse\n",
    "\n",
    "Given two arrays, one of actual values and one of predicted values,\n",
    "compute the Roote Mean Squared Error\n",
    "\n",
    "Parameters\n",
    "----------\n",
    "predictions : array\n",
    "    Array of numerical values corresponding to predictions for each of the N observations\n",
    "\n",
    "yvalues : array\n",
    "    Array of numerical values corresponding to the actual values for each of the N observations\n",
    "\n",
    "Returns\n",
    "-------\n",
    "rmse : int\n",
    "    Root Mean Squared Error of the prediction\n",
    "\n",
    "Example\n",
    "-------\n",
    ">>> print compute_rmse((2,2,3),(0,2,6)\n",
    "2.08\n",
    "\"\"\"\n",
    "import numpy as np\n",
    "\n",
    "def compute_rmse(predictions, yvalues):\n",
    "    p = np.array(predictions)\n",
    "    y = np.array(yvalues)\n",
    "    \n",
    "    rmse = ((p-y)**2).sum()*1.0/len(p)\n",
    "    rmse = np.sqrt(rmse)\n",
    "    \n",
    "    return rmse\n",
    "\n",
    "print compute_rmse((2,2,3),(0, 2, 6))"
   ]
  },
  {
   "cell_type": "markdown",
   "metadata": {},
   "source": [
    "###2.2 Divided the dataset into training and testing dataset"
   ]
  },
  {
   "cell_type": "code",
   "execution_count": 5,
   "metadata": {
    "collapsed": false
   },
   "outputs": [
    {
     "name": "stdout",
     "output_type": "stream",
     "text": [
      "(333, 13)\n",
      "(173, 13)\n",
      "(333,)\n",
      "(173,)\n"
     ]
    }
   ],
   "source": [
    "#Create a random range\n",
    "n = len(bdata.data)\n",
    "new_range = [i for i in range(n)]\n",
    "np.random.shuffle(new_range)\n",
    "\n",
    "#Randomly select 66% of the data and put this in a traiing dataset(call this 'bdata_train'), \n",
    "#others as testing dataset, call this 'bdata_test'\n",
    "\n",
    "train_index = new_range[0:int(0.66*n)]\n",
    "test_index = [i for i in new_range if i not in train_index]\n",
    "\n",
    "bdata_train = bdata.data[train_index]\n",
    "btarget_train = bdata.target[train_index]\n",
    "bdata_test = bdata.data[test_index]\n",
    "btarget_test = bdata.target[test_index]\n",
    "\n",
    "print bdata_train.shape\n",
    "print bdata_test.shape\n",
    "print btarget_train.shape\n",
    "print btarget_test.shape"
   ]
  },
  {
   "cell_type": "markdown",
   "metadata": {},
   "source": [
    "##Part3: Nearest Neighbor"
   ]
  },
  {
   "cell_type": "markdown",
   "metadata": {},
   "source": [
    "###3.1 Nearest Neighbor: Distance function"
   ]
  },
  {
   "cell_type": "code",
   "execution_count": 6,
   "metadata": {
    "collapsed": false
   },
   "outputs": [
    {
     "name": "stdout",
     "output_type": "stream",
     "text": [
      "7.0\n"
     ]
    }
   ],
   "source": [
    "\"\"\"\n",
    "Function\n",
    "--------\n",
    "distance\n",
    "\n",
    "Given two instances and a value for L, return the L-Norm distance between them\n",
    "\n",
    "Parameters\n",
    "----------\n",
    "x1, x2 : array\n",
    "    Array of numerical values corresponding to predictions for each of the N observations\n",
    "\n",
    "L: int\n",
    "    Value of L to use in computing distances\n",
    "\n",
    "Returns\n",
    "-------\n",
    "dist : int\n",
    "    The L-norm distance between instances\n",
    "\n",
    "Example\n",
    "-------\n",
    ">>> print distance((3,4),(5,9),1)\n",
    "7\n",
    "\n",
    "\"\"\"\n",
    "def distance(X1, X2, L):\n",
    "    X1 = np.array(X1)\n",
    "    X2 = np.array(X2)\n",
    "    \n",
    "    dist = ((X2-X1)**L).sum()\n",
    "    dist = np.power(dist, 1.0/L)\n",
    "    return dist\n",
    "\n",
    "print distance((3,4),(5,9),1)"
   ]
  },
  {
   "cell_type": "markdown",
   "metadata": {},
   "source": [
    "###3.2 Basic Nearest Neighbor algorithm"
   ]
  },
  {
   "cell_type": "code",
   "execution_count": 7,
   "metadata": {
    "collapsed": false
   },
   "outputs": [
    {
     "name": "stdout",
     "output_type": "stream",
     "text": [
      "Nearest Neighbor test data rmse = 7.35974050812\n"
     ]
    }
   ],
   "source": [
    "def nneighbor(x_train, x_test, y_train, y_test, L):\n",
    "    \n",
    "    #Declare arrays\n",
    "    X_TRAIN = np.array(x_train)\n",
    "    X_TEST = np.array(x_test)\n",
    "    Y_TRAIN = np.array(y_train)\n",
    "    Y_TEST = np.array(y_test)\n",
    "    Y_HAT = np.zeros(len(Y_TEST), dtype = float)\n",
    "    \n",
    "    #Iterate over test data\n",
    "    for i in range(len(X_TEST)):\n",
    "        tem_output = 0.0\n",
    "        min_dist = float(\"inf\")\n",
    "        \n",
    "        for j in range(len(X_TRAIN)):\n",
    "            dist = distance(X_TRAIN[j], X_TEST[i], L)\n",
    "            if (dist < min_dist):\n",
    "                min_dist = dist\n",
    "                tmp_output = Y_TRAIN[j]\n",
    "        \n",
    "        Y_HAT[i] = tmp_output\n",
    "        \n",
    "    \n",
    "    #Compute error\n",
    "    rmse = compute_rmse(Y_HAT, Y_TEST)\n",
    "    return rmse\n",
    "\n",
    "nn_rmse = nneighbor(bdata_train[:,(0,5)], bdata_test[:,(0,5)], btarget_train, btarget_test, 2)\n",
    "print \"Nearest Neighbor test data rmse =\", nn_rmse\n"
   ]
  },
  {
   "cell_type": "markdown",
   "metadata": {},
   "source": [
    "###3.3 Results and Normalization"
   ]
  },
  {
   "cell_type": "code",
   "execution_count": 9,
   "metadata": {
    "collapsed": false
   },
   "outputs": [
    {
     "name": "stdout",
     "output_type": "stream",
     "text": [
      "Normalized Nearest Neighbor test data rmse is: 11.157394707\n"
     ]
    }
   ],
   "source": [
    "#Create the normalization function\n",
    "\n",
    "def normalize(raw_data):\n",
    "    #initialize array\n",
    "    raw = np.array(raw_data)\n",
    "    normalized_data = np.zeros_like(raw)\n",
    "    \n",
    "    #Calculate the mean, std\n",
    "    mean = raw.mean(axis = 0)\n",
    "    std = raw.std(axis = 0)\n",
    "    normalized_data = (raw-mean)*1.0/std\n",
    "    \n",
    "    return normalized_data\n",
    "\n",
    "#Normalize the data arrays\n",
    "nor_bdata_train = normalize(bdata_train)\n",
    "nor_bdata_test = normalize(bdata_test)\n",
    "\n",
    "nor_nn_rmse = nneighbor(nor_bdata_train, nor_bdata_test, btarget_train, btarget_test, 3)\n",
    "print \"Normalized Nearest Neighbor test data rmse is:\",nor_nn_rmse"
   ]
  },
  {
   "cell_type": "markdown",
   "metadata": {},
   "source": [
    "###3.4 Optimization by changing L values and adding more features"
   ]
  },
  {
   "cell_type": "code",
   "execution_count": 10,
   "metadata": {
    "collapsed": false
   },
   "outputs": [
    {
     "name": "stdout",
     "output_type": "stream",
     "text": [
      "NN, AGE-TEX, L=2: 10.1246822543\n",
      "NN, AGE-TEX, L=12: 10.4761551434\n",
      "NN, CHAS-NOX-AGE-TEX-B, L=1: 29.0953535015\n",
      "NN, CHAS-NOX-AGE-TEX-B, L=2: 5.22773285005\n",
      "NN, CHAS-NOX-AGE-TEX-B, L=3: 7.21082599712\n",
      "NN, all features, L=2: 5.08160572684\n",
      "NN, all features, L=1: 14.8027005035\n"
     ]
    }
   ],
   "source": [
    "#NN with AGE and TAX\n",
    "nn1 = nneighbor(nor_bdata_train[:,(6,9)], nor_bdata_test[:,(6,9)], btarget_train, btarget_test, 2)\n",
    "print \"NN, AGE-TEX, L=2:\", nn1\n",
    "\n",
    "nn2 = nneighbor(nor_bdata_train[:,(6,9)], nor_bdata_test[:,(6,9)], btarget_train, btarget_test, 12)\n",
    "print \"NN, AGE-TEX, L=12:\", nn2\n",
    "\n",
    "\n",
    "\n",
    "#NN with CHAS-NOX-AGE-TEX-B\n",
    "nn3_1 = nneighbor(nor_bdata_train[:,(3,6,5,9,11)], nor_bdata_test[:,(3,6,5,9,11)], btarget_train, btarget_test, 1)\n",
    "print \"NN, CHAS-NOX-AGE-TEX-B, L=1:\", nn3_1\n",
    "\n",
    "nn3 = nneighbor(nor_bdata_train[:,(3,6,5,9,11)], nor_bdata_test[:,(3,6,5,9,11)], btarget_train, btarget_test, 2)\n",
    "print \"NN, CHAS-NOX-AGE-TEX-B, L=2:\", nn3\n",
    "\n",
    "nn4 = nneighbor(nor_bdata_train[:,(3,6,5,9,11)], nor_bdata_test[:,(3,6,5,9,11)], btarget_train, btarget_test, 3)\n",
    "print \"NN, CHAS-NOX-AGE-TEX-B, L=3:\", nn4\n",
    "\n",
    "\n",
    "#NN with all features\n",
    "nn5 = nneighbor(nor_bdata_train[:,], nor_bdata_test[:,], btarget_train, btarget_test, 2)\n",
    "print \"NN, all features, L=2:\", nn5\n",
    "\n",
    "nn6 = nneighbor(nor_bdata_train[:,], nor_bdata_test[:,], btarget_train, btarget_test, 1)\n",
    "print \"NN, all features, L=1:\", nn6"
   ]
  },
  {
   "cell_type": "markdown",
   "metadata": {},
   "source": [
    "###3.5 K-Nearest Neighbors Algorithm"
   ]
  },
  {
   "cell_type": "code",
   "execution_count": 24,
   "metadata": {
    "collapsed": false
   },
   "outputs": [
    {
     "name": "stdout",
     "output_type": "stream",
     "text": [
      "The normalized knn-rmse is: 6.50840620403\n"
     ]
    }
   ],
   "source": [
    "def knn3(trainingSet, testInstance, y_test, y_train, L, col, k):\n",
    "    dist = [] #The distance\n",
    "    l = []\n",
    "    d = {}\n",
    "    neighbor = []\n",
    "    y_pred = []\n",
    "    sumb = 0\n",
    "    \n",
    "    #Calculate all the distance between the test intances and every instances in the training dataset.\n",
    "    for i in range(len(testInstance)):\n",
    "        for j in range(len(trainingSet)):\n",
    "            dis = distance([trainingSet[j,col[m]]for m in range(len(col))], [testInstance[i,col[m]]for m in range(len(col))],L)\n",
    "            dist.append((i, dis, y_train[j]))\n",
    "            \n",
    "    #Sort the list of distance\n",
    "    sorted_x = sorted(dist)\n",
    "    \n",
    "    #Get the top k smaller distance for each test instance\n",
    "    for m in range(0, len(sorted_x), len(trainingSet)):\n",
    "        for i in range(k):\n",
    "            l.append(sorted_x[m+i])\n",
    "    \n",
    "    #Get K neighbors:\n",
    "    neighbor = [row[2]for row in l] \n",
    "    \n",
    "    \n",
    "    #Get the average y_prediction values in all neighbors\n",
    "    for i in range(0, len(neighbor), k):\n",
    "        sumb = 0\n",
    "        for j in range(k):\n",
    "            sumb += neighbor[i+j]\n",
    "        avg = float(sumb)/k\n",
    "        y_pred.append(avg)\n",
    "    rmse = compute_rmse(y_pred, y_test)\n",
    "    return rmse\n",
    "\n",
    "#Parse values to parameters\n",
    "\n",
    "knn_rmse = knn3(nor_bdata_train, nor_bdata_test, btarget_test, btarget_train, 3, (0,5), 3)\n",
    "\n",
    "print \"The normalized knn-rmse is:\", knn_rmse"
   ]
  },
  {
   "cell_type": "markdown",
   "metadata": {},
   "source": [
    "###3.6 Using Croos Validation to find K"
   ]
  },
  {
   "cell_type": "code",
   "execution_count": 28,
   "metadata": {
    "collapsed": false
   },
   "outputs": [
    {
     "data": {
      "image/png": "[encoded data removed]",
      "text/plain": [
       "<matplotlib.figure.Figure at 0x109026f10>"
      ]
     },
     "metadata": {},
     "output_type": "display_data"
    }
   ],
   "source": [
    "def crossValidation_new(data, L, col,k):\n",
    "    #Normalize dataset\n",
    "    nor_data = normalize(data)\n",
    "    [c,r] = nor_data.shape\n",
    "    n = [i for i in range(c)] \n",
    "    #Create shuffled list used as index\n",
    "    np.random.shuffle(n) \n",
    "    #Create new dataset with shuffled rows\n",
    "    nor_xnew = nor_data[n,:] \n",
    "    nor_ynew = btarget_train[n]\n",
    "    length = len(nor_xnew)\n",
    "    p = int(0.1*length)\n",
    "    suma = 0\n",
    "    #Use for loop to rotate the test index in the whole dataset\n",
    "    for i in range(0, length, p):\n",
    "        test_index = n[i:i+p]\n",
    "        train_index = [i for i in n if i not in test_index]\n",
    "        if len(test_index) < p: #Break the for loop if test index is less than 10 percent of whole list\n",
    "            break\n",
    "        trainingSet = nor_xnew[train_index,:]\n",
    "        testInstance = nor_xnew[test_index,:]\n",
    "        y_test = nor_ynew[test_index]\n",
    "        y_train = nor_ynew[train_index]\n",
    "        rmse = knn3(trainingSet, testInstance, y_test, y_train, L, col, k)\n",
    "        suma += rmse\n",
    "    avg = suma/10.0\n",
    "    return avg\n",
    "\"\"\"\n",
    "Function\n",
    "--------\n",
    "choose\n",
    "    Give a k value then plot the result to show the pattern of RMSE in the range of k\n",
    "\n",
    "Parameters\n",
    "----------\n",
    "k: int\n",
    "    Number of the nearest k neighbors\n",
    "    \n",
    "Returns\n",
    "-------\n",
    "Plot to show the relationship between the k value and RMSE\n",
    "    \n",
    "\"\"\"\n",
    "def choose(k):\n",
    "    d = {}\n",
    "    for i in range(1,k+1):\n",
    "        rmse = crossValidation_new(bdata_train, L = 1, col = [0,5], k = i)\n",
    "        d[i] = rmse\n",
    "    #Make a graph to show the pattern of RMSE and k-value\n",
    "    k_value = [key for key in d]\n",
    "    rmse = [d[key] for key in d ]\n",
    "    ax = plt.gca()\n",
    "    ax.spines[\"right\"].set_visible(False)\n",
    "    ax.spines[\"top\"].set_visible(False)\n",
    "    plt.tick_params(top = \"off\", right = \"off\")\n",
    "    #Change the color of the bars to be green and change the bin width to be $1000\n",
    "    plt.scatter(k_value, rmse, color = 'purple')\n",
    "    #Add x and y labels\n",
    "    plt.ylabel(\"RMSE\")\n",
    "    plt.xlabel(\"K_Value\")\n",
    "    plt.xlim([0,26])\n",
    "    plt.title('Relationship between RMSE and K_value')  \n",
    "    plt.grid()  \n",
    "    plt.show()\n",
    "choose(25)\n"
   ]
  },
  {
   "cell_type": "code",
   "execution_count": null,
   "metadata": {
    "collapsed": false
   },
   "outputs": [],
   "source": []
  }
 ],
 "metadata": {
  "anaconda-cloud": {},
  "kernelspec": {
   "display_name": "Python [default]",
   "language": "python",
   "name": "python2"
  },
  "language_info": {
   "codemirror_mode": {
    "name": "ipython",
    "version": 2
   },
   "file_extension": ".py",
   "mimetype": "text/x-python",
   "name": "python",
   "nbconvert_exporter": "python",
   "pygments_lexer": "ipython2",
   "version": "2.7.12"
  }
 },
 "nbformat": 4,
 "nbformat_minor": 0
}
